{
 "cells": [
  {
   "cell_type": "markdown",
   "id": "71a3b497",
   "metadata": {},
   "source": [
    "<h2><b><u>Case Study: Popular Books - Best Sellers and Highly Rated Titles </u></b></h2>\n",
    "\n",
    "<h3><b><i>Goal</i></b></h3>\n",
    "The goal of this Case Study is to practice <b><i>preprocessing and cleaning</i></b> real datasets based on what you've learned in DataCamp's <a href=\"https://learn.datacamp.com/courses/cleaning-data-in-python\">Cleaning Data in Python</a> course. This Case Study will have many Code cells that produce errors. Instead of hiding these errors or modifying the data files to not have them, you will see the errors and see how to solve them. This is part of the data cleaning process, to determine what in the raw data file does not work and learn how to fix it. \n",
    "\n",
    "\n",
    "<h3><b><i>Data</i></b></h3>\n",
    "Two datasets hosted on Kaggle and released under CC0 will be used in this Case Study. The first is the <b><i>Goodreads-books</i></b> dataset provided by Soumik. The <a href = \"https://www.kaggle.com/jealousleopard/goodreadsbooks\">Goodreads-books</a> dataset was produced using the Goodreads API and underwent additional preprocessing by its creator. The second dataset is the <b><i>Amazon Top 50 Bestselling Books 2009 - 2019</i></b> provided by Sooter Saalu. The <a href = \"https://www.kaggle.com/sootersaalu/amazon-top-50-bestselling-books-2009-2019\">Amazon Top 50 Bestselling Books 2009 - 2019</a> dataset was scraped from Amazon and contains a <i>categories</i> column added by the dataset creator. \n",
    "\n",
    "Both datsets are in <b><i>csv</i></b> format. The <b><i>Goodreads-books</i></b> dataset will be referred to as <b><i>Goodreads</i></b> and the <b><i>Amazon Top 50 Bestselling Books 2009-2019</i></b> as <b><i>Amazon</i></b> within this Case Study. \n",
    "\n",
    " \n",
    "\n",
    "\n",
    "  \n",
    "Sources: \n",
    "<ol style = \"font-size:8px\">\n",
    "    <li>Soumik. 2020. \"Goodreads-books\". https://www.kaggle.com/jealousleopard/goodreadsbooks </li>\n",
    "    <li>Sooter Saalu. 2020. \"Amazon Top 50 Bestselling Books 2009-2019\". https://www.kaggle.com/sootersaalu/amazon-top-50-bestselling-books-2009-2019/ </li>\n",
    "\n",
    "</ol>\n",
    "\n"
   ]
  },
  {
   "cell_type": "markdown",
   "id": "31d7736d",
   "metadata": {},
   "source": [
    "<h4><u>Importing libraries</u></h4>\n",
    "\n",
    "<span class=\"bltn\">Import</span> pandas and matplotlib.pyplot in the Code cell below. "
   ]
  },
  {
   "cell_type": "code",
   "id": "4385fcbd",
   "metadata": {
    "ExecuteTime": {
     "end_time": "2024-11-07T12:24:17.637096Z",
     "start_time": "2024-11-07T12:24:16.999745Z"
    }
   },
   "source": [
    "# Import libraries\n",
    "import pandas as pd\n",
    "import matplotlib.pyplot as plt"
   ],
   "outputs": [],
   "execution_count": 1
  },
  {
   "cell_type": "markdown",
   "id": "01dae8d0",
   "metadata": {},
   "source": [
    "<h4><u>Reading in the Goodreads Data</u></h4>\n",
    "\n",
    "Read in the <b><i>Goodreads</i></b> data using pandas <b>read_csv</b> method and specifying <b><i>on_bad_lines</i></b> <span class=\"op\">=</span> <span class=\"str\">\"warn\"</span>. "
   ]
  },
  {
   "cell_type": "code",
   "id": "d7d59eb1",
   "metadata": {
    "ExecuteTime": {
     "end_time": "2024-11-07T12:24:25.434246Z",
     "start_time": "2024-11-07T12:24:25.399371Z"
    }
   },
   "source": [
    "# Import the Goodreads data\n",
    "gdrd_df = pd.read_csv(\"Data\\goodreads_books.csv\", sep = \",\", on_bad_lines = \"warn\")"
   ],
   "outputs": [
    {
     "name": "stderr",
     "output_type": "stream",
     "text": [
      "<>:2: SyntaxWarning: invalid escape sequence '\\g'\n",
      "<>:2: SyntaxWarning: invalid escape sequence '\\g'\n",
      "C:\\Users\\Mike\\AppData\\Local\\Temp\\ipykernel_12812\\385727588.py:2: SyntaxWarning: invalid escape sequence '\\g'\n",
      "  gdrd_df = pd.read_csv(\"Data\\goodreads_books.csv\", sep = \",\", on_bad_lines = \"warn\")\n",
      "C:\\Users\\Mike\\AppData\\Local\\Temp\\ipykernel_12812\\385727588.py:2: ParserWarning: Skipping line 3350: expected 12 fields, saw 13\n",
      "Skipping line 4704: expected 12 fields, saw 13\n",
      "Skipping line 5879: expected 12 fields, saw 13\n",
      "Skipping line 8981: expected 12 fields, saw 13\n",
      "\n",
      "  gdrd_df = pd.read_csv(\"Data\\goodreads_books.csv\", sep = \",\", on_bad_lines = \"warn\")\n"
     ]
    }
   ],
   "execution_count": 2
  },
  {
   "cell_type": "markdown",
   "id": "deaa2570",
   "metadata": {},
   "source": [
    "The <b><i>on_bad_lines</i></b> parameter is set to <span class=\"str\">warn</span> when the number of row values does not match the number of values in the header row. This allows the csv file to continue to be read into a DataFrame by excluding the non-matching rows. Since there are only four rows that have this problem, excluding them is fine for the purpose of the Case Study. \n",
    "\n",
    "The column names, number of non-NaN values, and columnn data type is then displayed using <b>info</b>. Display the <span class=\"num\"> first 2 rows</span>. "
   ]
  },
  {
   "cell_type": "code",
   "id": "32275644",
   "metadata": {
    "ExecuteTime": {
     "end_time": "2024-11-07T12:25:02.019168Z",
     "start_time": "2024-11-07T12:25:01.999565Z"
    }
   },
   "source": [
    "# Display column metadata using gdrd_df.info()\n",
    "gdrd_df.info()\n",
    "# Display first 2 rows of gdrd_df\n",
    "gdrd_df.head(2)"
   ],
   "outputs": [
    {
     "name": "stdout",
     "output_type": "stream",
     "text": [
      "<class 'pandas.core.frame.DataFrame'>\n",
      "RangeIndex: 11123 entries, 0 to 11122\n",
      "Data columns (total 12 columns):\n",
      " #   Column              Non-Null Count  Dtype  \n",
      "---  ------              --------------  -----  \n",
      " 0   bookID              11123 non-null  int64  \n",
      " 1   title               11123 non-null  object \n",
      " 2   authors             11123 non-null  object \n",
      " 3   average_rating      11123 non-null  float64\n",
      " 4   isbn                11123 non-null  object \n",
      " 5   isbn13              11123 non-null  int64  \n",
      " 6   language_code       11123 non-null  object \n",
      " 7     num_pages         11123 non-null  int64  \n",
      " 8   ratings_count       11123 non-null  int64  \n",
      " 9   text_reviews_count  11123 non-null  int64  \n",
      " 10  publication_date    11123 non-null  object \n",
      " 11  publisher           11123 non-null  object \n",
      "dtypes: float64(1), int64(5), object(6)\n",
      "memory usage: 1.0+ MB\n"
     ]
    },
    {
     "data": {
      "text/plain": [
       "   bookID                                              title  \\\n",
       "0       1  Harry Potter and the Half-Blood Prince (Harry ...   \n",
       "1       2  Harry Potter and the Order of the Phoenix (Har...   \n",
       "\n",
       "                      authors  average_rating        isbn         isbn13  \\\n",
       "0  J.K. Rowling/Mary GrandPré            4.57  0439785960  9780439785969   \n",
       "1  J.K. Rowling/Mary GrandPré            4.49  0439358078  9780439358071   \n",
       "\n",
       "  language_code    num_pages  ratings_count  text_reviews_count  \\\n",
       "0           eng          652        2095690               27591   \n",
       "1           eng          870        2153167               29221   \n",
       "\n",
       "  publication_date        publisher  \n",
       "0        9/16/2006  Scholastic Inc.  \n",
       "1         9/1/2004  Scholastic Inc.  "
      ],
      "text/html": [
       "<div>\n",
       "<style scoped>\n",
       "    .dataframe tbody tr th:only-of-type {\n",
       "        vertical-align: middle;\n",
       "    }\n",
       "\n",
       "    .dataframe tbody tr th {\n",
       "        vertical-align: top;\n",
       "    }\n",
       "\n",
       "    .dataframe thead th {\n",
       "        text-align: right;\n",
       "    }\n",
       "</style>\n",
       "<table border=\"1\" class=\"dataframe\">\n",
       "  <thead>\n",
       "    <tr style=\"text-align: right;\">\n",
       "      <th></th>\n",
       "      <th>bookID</th>\n",
       "      <th>title</th>\n",
       "      <th>authors</th>\n",
       "      <th>average_rating</th>\n",
       "      <th>isbn</th>\n",
       "      <th>isbn13</th>\n",
       "      <th>language_code</th>\n",
       "      <th>num_pages</th>\n",
       "      <th>ratings_count</th>\n",
       "      <th>text_reviews_count</th>\n",
       "      <th>publication_date</th>\n",
       "      <th>publisher</th>\n",
       "    </tr>\n",
       "  </thead>\n",
       "  <tbody>\n",
       "    <tr>\n",
       "      <th>0</th>\n",
       "      <td>1</td>\n",
       "      <td>Harry Potter and the Half-Blood Prince (Harry ...</td>\n",
       "      <td>J.K. Rowling/Mary GrandPré</td>\n",
       "      <td>4.57</td>\n",
       "      <td>0439785960</td>\n",
       "      <td>9780439785969</td>\n",
       "      <td>eng</td>\n",
       "      <td>652</td>\n",
       "      <td>2095690</td>\n",
       "      <td>27591</td>\n",
       "      <td>9/16/2006</td>\n",
       "      <td>Scholastic Inc.</td>\n",
       "    </tr>\n",
       "    <tr>\n",
       "      <th>1</th>\n",
       "      <td>2</td>\n",
       "      <td>Harry Potter and the Order of the Phoenix (Har...</td>\n",
       "      <td>J.K. Rowling/Mary GrandPré</td>\n",
       "      <td>4.49</td>\n",
       "      <td>0439358078</td>\n",
       "      <td>9780439358071</td>\n",
       "      <td>eng</td>\n",
       "      <td>870</td>\n",
       "      <td>2153167</td>\n",
       "      <td>29221</td>\n",
       "      <td>9/1/2004</td>\n",
       "      <td>Scholastic Inc.</td>\n",
       "    </tr>\n",
       "  </tbody>\n",
       "</table>\n",
       "</div>"
      ]
     },
     "execution_count": 3,
     "metadata": {},
     "output_type": "execute_result"
    }
   ],
   "execution_count": 3
  },
  {
   "cell_type": "markdown",
   "id": "2ce103bc",
   "metadata": {},
   "source": [
    "<h4><u>Modifying Column Data Types</u></h4>\n",
    "\n",
    "The output of <b>info</b> shows that most of the columns were read in with the correct data type. Let's change the data type for <span class=\"num\"> 2 </span> columns, <b><i>isbn13 and publication_date</i></b>. Although <b><i>isbn13</i></b> is a unique numeric identifier, no numerical operations will be performed using it, so the data type can be changed to <span class=\"str\">string</span>. The <b><i>publication_date</i></b> column can be changed to <i>datetime</i>. "
   ]
  },
  {
   "cell_type": "code",
   "id": "7e046950",
   "metadata": {
    "ExecuteTime": {
     "end_time": "2024-11-07T12:26:35.789603Z",
     "start_time": "2024-11-07T12:26:35.782847Z"
    }
   },
   "source": [
    "# Change the data type of isbn13 to str \n",
    "gdrd_df[\"isbn13\"] = gdrd_df[\"isbn13\"].astype(\"str\")\n",
    "\n",
    "# Check that the isbn13 col. is str (object) \n",
    "assert gdrd_df[\"isbn13\"].dtype == \"object\"\n"
   ],
   "outputs": [],
   "execution_count": 4
  },
  {
   "cell_type": "markdown",
   "id": "cf910806",
   "metadata": {},
   "source": [
    "The <b>assert</b> statement ran without errors which means that the data type conversion was succesful. Converting <i>publication_date</i> to <i>datetime</i> will be a little more challenging. There are <span class=\"num\">2 rows</span> of data that have errors in their format which will not allow them to convert to <i>datetime</i>. The row with <i>bookID</i> <span class=\"num\">31373 and 45531</span>. Display these rows to identify the problem. "
   ]
  },
  {
   "cell_type": "code",
   "id": "02f22ee0",
   "metadata": {
    "ExecuteTime": {
     "end_time": "2024-11-07T12:26:42.535337Z",
     "start_time": "2024-11-07T12:26:42.523304Z"
    }
   },
   "source": [
    "print(gdrd_df[gdrd_df[\"bookID\"] == 31373])\n",
    "print(gdrd_df[gdrd_df[\"bookID\"] == 45531])"
   ],
   "outputs": [
    {
     "name": "stdout",
     "output_type": "stream",
     "text": [
      "      bookID                                              title  \\\n",
      "8177   31373  In Pursuit of the Proper Sinner (Inspector Lyn...   \n",
      "\n",
      "                authors  average_rating        isbn         isbn13  \\\n",
      "8177  Elizabeth  George             4.1  0553575104  9780553575101   \n",
      "\n",
      "     language_code    num_pages  ratings_count  text_reviews_count  \\\n",
      "8177           eng          718          10608                 295   \n",
      "\n",
      "     publication_date     publisher  \n",
      "8177       11/31/2000  Bantam Books  \n",
      "       bookID                                       title  \\\n",
      "11094   45531  Montaillou  village occitan de 1294 à 1324   \n",
      "\n",
      "                                               authors  average_rating  \\\n",
      "11094  Emmanuel Le Roy Ladurie/Emmanuel Le Roy-Ladurie            3.96   \n",
      "\n",
      "             isbn         isbn13 language_code    num_pages  ratings_count  \\\n",
      "11094  2070323285  9782070323289           fre          640             15   \n",
      "\n",
      "       text_reviews_count publication_date       publisher  \n",
      "11094                   2        6/31/1982  Folio histoire  \n"
     ]
    }
   ],
   "execution_count": 5
  },
  {
   "cell_type": "markdown",
   "id": "e0bb4d01",
   "metadata": {},
   "source": [
    "These two books have days which do not exist for that month. Both June and November only have 30 days, not 31. This will cause the data type conversion to error. These two rows could be removed from <b><i>gdrd_df</i></b> at this point, but let's see how these rows were identified and how to handle this situation. \n",
    "\n",
    "When converting to <i>datetime</i> using pandas <b>to_datetime</b>, the argument for <b><i>errors</i></b> is set to <span class=\"str\">coerce</span>. This allows any values with a conversion error to be specified as <b><i>NaT</i></b> <a href = \"https://pandas.pydata.org/docs/reference/api/pandas.to_datetime.html\">(Pandas, 2021)</a>. "
   ]
  },
  {
   "cell_type": "code",
   "id": "8a37150d",
   "metadata": {
    "ExecuteTime": {
     "end_time": "2024-11-07T12:26:58.937328Z",
     "start_time": "2024-11-07T12:26:58.913834Z"
    }
   },
   "source": [
    "# Change the data type of publication_date to datetime\n",
    "gdrd_df[\"publication_date\"] = pd.to_datetime(gdrd_df[\"publication_date\"], errors = \"coerce\")\n",
    "\n",
    "# Check that publication_date was converted to datetime64[ns]\n",
    "assert gdrd_df[\"publication_date\"].dtype == \"datetime64[ns]\"\n",
    "\n",
    "# Identify the rows in which publication_date was unable to convert \n",
    "nat_rows = gdrd_df[gdrd_df[\"publication_date\"].isna() == True]"
   ],
   "outputs": [],
   "execution_count": 6
  },
  {
   "cell_type": "markdown",
   "id": "e0e5dcdd",
   "metadata": {},
   "source": [
    "Checking for <b><i>NaT</i></b> values using <b>isna</b> can identify the rows in which <i>publication_date</i> could not correctly convert. Let's remove these two rows from <b><i>gdrd_df</i></b> using <b>drop</b>. "
   ]
  },
  {
   "cell_type": "code",
   "id": "980bc24b",
   "metadata": {
    "ExecuteTime": {
     "end_time": "2024-11-07T12:27:03.730938Z",
     "start_time": "2024-11-07T12:27:03.713097Z"
    }
   },
   "source": [
    "# Identify the rows in which publication_date was unable to convert.\n",
    "# This command will error if ran more than once since the specified indices will already have been dropped. \n",
    "gdrd_df.drop(nat_rows.index, axis = 0, inplace = True)"
   ],
   "outputs": [],
   "execution_count": 7
  },
  {
   "cell_type": "code",
   "id": "ebba7326",
   "metadata": {
    "ExecuteTime": {
     "end_time": "2024-11-07T12:27:37.637552Z",
     "start_time": "2024-11-07T12:27:37.620670Z"
    }
   },
   "source": [
    "# Check that the rows were dropped.\n",
    "gdrd_df[gdrd_df[\"publication_date\"].isna() == True]"
   ],
   "outputs": [
    {
     "data": {
      "text/plain": [
       "Empty DataFrame\n",
       "Columns: [bookID, title, authors, average_rating, isbn, isbn13, language_code,   num_pages, ratings_count, text_reviews_count, publication_date, publisher]\n",
       "Index: []"
      ],
      "text/html": [
       "<div>\n",
       "<style scoped>\n",
       "    .dataframe tbody tr th:only-of-type {\n",
       "        vertical-align: middle;\n",
       "    }\n",
       "\n",
       "    .dataframe tbody tr th {\n",
       "        vertical-align: top;\n",
       "    }\n",
       "\n",
       "    .dataframe thead th {\n",
       "        text-align: right;\n",
       "    }\n",
       "</style>\n",
       "<table border=\"1\" class=\"dataframe\">\n",
       "  <thead>\n",
       "    <tr style=\"text-align: right;\">\n",
       "      <th></th>\n",
       "      <th>bookID</th>\n",
       "      <th>title</th>\n",
       "      <th>authors</th>\n",
       "      <th>average_rating</th>\n",
       "      <th>isbn</th>\n",
       "      <th>isbn13</th>\n",
       "      <th>language_code</th>\n",
       "      <th>num_pages</th>\n",
       "      <th>ratings_count</th>\n",
       "      <th>text_reviews_count</th>\n",
       "      <th>publication_date</th>\n",
       "      <th>publisher</th>\n",
       "    </tr>\n",
       "  </thead>\n",
       "  <tbody>\n",
       "  </tbody>\n",
       "</table>\n",
       "</div>"
      ]
     },
     "execution_count": 8,
     "metadata": {},
     "output_type": "execute_result"
    }
   ],
   "execution_count": 8
  },
  {
   "cell_type": "markdown",
   "id": "82a7e4ab",
   "metadata": {},
   "source": [
    "<h4><u>Removing Values that Violate Data Constraints</u></h4>\n",
    "\n",
    "Both the <i>publication_date</i> and <i>isbn13</i> columns have been updated to their correct data types. Next let's check that the <i>isbn</i> column values are <span class=\"num\">10</span> <span class=\"str\">characters</span> in length and that <i>isbn13</i> values are <span class=\"num\">13</span> <span class=\"str\">characters</span> in length. "
   ]
  },
  {
   "cell_type": "code",
   "id": "1163338c",
   "metadata": {
    "ExecuteTime": {
     "end_time": "2024-11-07T12:29:53.857065Z",
     "start_time": "2024-11-07T12:29:53.843701Z"
    }
   },
   "source": [
    "# Extract the rows in which isbn is not 10 characters or the isbn13 is not 13 characters \n",
    "wrong_length = gdrd_df[(gdrd_df[\"isbn\"].str.len() != 10) | (gdrd_df[\"isbn13\"].str.len() != 13)]\n",
    "\n",
    "# Print the number of rows that meet this criteria by printing the shape of wrong_length\n",
    "print(wrong_length.shape)\n",
    "# Display the first 2 rows of wrong_length\n",
    "wrong_length.head(2)"
   ],
   "outputs": [
    {
     "name": "stdout",
     "output_type": "stream",
     "text": [
      "(26, 12)\n"
     ]
    },
    {
     "data": {
      "text/plain": [
       "     bookID                                              title  \\\n",
       "221     565  The Zen of CSS Design: Visual Enlightenment fo...   \n",
       "347    1188  Risotto: 30 Simply Delicious Vegetarian Recipe...   \n",
       "\n",
       "                                      authors  average_rating        isbn  \\\n",
       "221             Dave Shea/Molly E. Holzschlag            3.98  0321303474   \n",
       "347  Ursula Ferrigno/Jason Lowe/Maxine  Clark            4.08  1841721476   \n",
       "\n",
       "           isbn13 language_code    num_pages  ratings_count  \\\n",
       "221  785342303476         en-US          296            793   \n",
       "347  694055000612           eng           64              8   \n",
       "\n",
       "     text_reviews_count publication_date              publisher  \n",
       "221                  28       2005-02-17         Peachpit Press  \n",
       "347                   2       2001-03-01  Ryland Peters & Small  "
      ],
      "text/html": [
       "<div>\n",
       "<style scoped>\n",
       "    .dataframe tbody tr th:only-of-type {\n",
       "        vertical-align: middle;\n",
       "    }\n",
       "\n",
       "    .dataframe tbody tr th {\n",
       "        vertical-align: top;\n",
       "    }\n",
       "\n",
       "    .dataframe thead th {\n",
       "        text-align: right;\n",
       "    }\n",
       "</style>\n",
       "<table border=\"1\" class=\"dataframe\">\n",
       "  <thead>\n",
       "    <tr style=\"text-align: right;\">\n",
       "      <th></th>\n",
       "      <th>bookID</th>\n",
       "      <th>title</th>\n",
       "      <th>authors</th>\n",
       "      <th>average_rating</th>\n",
       "      <th>isbn</th>\n",
       "      <th>isbn13</th>\n",
       "      <th>language_code</th>\n",
       "      <th>num_pages</th>\n",
       "      <th>ratings_count</th>\n",
       "      <th>text_reviews_count</th>\n",
       "      <th>publication_date</th>\n",
       "      <th>publisher</th>\n",
       "    </tr>\n",
       "  </thead>\n",
       "  <tbody>\n",
       "    <tr>\n",
       "      <th>221</th>\n",
       "      <td>565</td>\n",
       "      <td>The Zen of CSS Design: Visual Enlightenment fo...</td>\n",
       "      <td>Dave Shea/Molly E. Holzschlag</td>\n",
       "      <td>3.98</td>\n",
       "      <td>0321303474</td>\n",
       "      <td>785342303476</td>\n",
       "      <td>en-US</td>\n",
       "      <td>296</td>\n",
       "      <td>793</td>\n",
       "      <td>28</td>\n",
       "      <td>2005-02-17</td>\n",
       "      <td>Peachpit Press</td>\n",
       "    </tr>\n",
       "    <tr>\n",
       "      <th>347</th>\n",
       "      <td>1188</td>\n",
       "      <td>Risotto: 30 Simply Delicious Vegetarian Recipe...</td>\n",
       "      <td>Ursula Ferrigno/Jason Lowe/Maxine  Clark</td>\n",
       "      <td>4.08</td>\n",
       "      <td>1841721476</td>\n",
       "      <td>694055000612</td>\n",
       "      <td>eng</td>\n",
       "      <td>64</td>\n",
       "      <td>8</td>\n",
       "      <td>2</td>\n",
       "      <td>2001-03-01</td>\n",
       "      <td>Ryland Peters &amp; Small</td>\n",
       "    </tr>\n",
       "  </tbody>\n",
       "</table>\n",
       "</div>"
      ]
     },
     "execution_count": 11,
     "metadata": {},
     "output_type": "execute_result"
    }
   ],
   "execution_count": 11
  },
  {
   "cell_type": "markdown",
   "id": "662f119b",
   "metadata": {},
   "source": [
    "A book can be looked up with either the <i>isbn</i> or <i>isbn13</i> number, however let's go ahead and remove those rows that have one or the other with the incorrect length. Instead of using the <b>drop</b>, ~wrong_length will be used. This is similar to DataCamp's Cleaning Data in Python Chapter 2 \"Drop Inconsistent Categories\" example. However, instead of categories such as \"B-\", \"Z+\", etc., the boolean values True and False are used. "
   ]
  },
  {
   "cell_type": "code",
   "id": "55afc86b",
   "metadata": {
    "ExecuteTime": {
     "end_time": "2024-11-07T12:30:08.259840Z",
     "start_time": "2024-11-07T12:30:08.235073Z"
    }
   },
   "source": [
    "# Print the shape of gdrd_df before removing the rows \n",
    "print(gdrd_df.shape)\n",
    "\n",
    "# Boolean results for if the rows in wrong_length are in the gdrd_df\n",
    "wrong_rows = gdrd_df.isin(wrong_length)\n",
    "\n",
    "# Create subset of gdrd_df that contains all rows except wrong rows. \n",
    "# This assigns NaN values to the wrong_rows \n",
    "gdrd_df = gdrd_df[~wrong_rows]\n",
    "\n",
    "# Drop all rows that contain NaN values \n",
    "gdrd_df.dropna(axis = 0, inplace = True)\n",
    "\n",
    "# Print the shape of gdrd_df after removing the rows \n",
    "gdrd_df.shape"
   ],
   "outputs": [
    {
     "name": "stdout",
     "output_type": "stream",
     "text": [
      "(11121, 12)\n"
     ]
    },
    {
     "data": {
      "text/plain": [
       "(11095, 12)"
      ]
     },
     "execution_count": 12,
     "metadata": {},
     "output_type": "execute_result"
    }
   ],
   "execution_count": 12
  },
  {
   "cell_type": "markdown",
   "id": "18833d16",
   "metadata": {},
   "source": [
    "<h4><u>Creating Consistent Values</u></h4>\n",
    "\n",
    "The next pre-processing step is to convert the <i>title</i> and <i>authors</i> column to <span class=\"str\">lower case strings</span>. This is done to ensure consistency in punctuation of those columns values. "
   ]
  },
  {
   "cell_type": "code",
   "id": "8f3220ef",
   "metadata": {
    "ExecuteTime": {
     "end_time": "2024-11-07T12:30:50.362637Z",
     "start_time": "2024-11-07T12:30:50.346506Z"
    }
   },
   "source": [
    "# Convert the title column to lower case \n",
    "gdrd_df[\"title\"] = gdrd_df[\"title\"].str.lower()\n",
    "\n",
    "# Convert the authors column to lower case \n",
    "gdrd_df[\"authors\"] = gdrd_df[\"authors\"].str.lower()\n",
    "\n",
    "# Check the first 5 rows of gdrd_df to ensure it is lower case\n",
    "gdrd_df.head(5)"
   ],
   "outputs": [
    {
     "data": {
      "text/plain": [
       "   bookID                                              title  \\\n",
       "0     1.0  harry potter and the half-blood prince (harry ...   \n",
       "1     2.0  harry potter and the order of the phoenix (har...   \n",
       "2     4.0  harry potter and the chamber of secrets (harry...   \n",
       "3     5.0  harry potter and the prisoner of azkaban (harr...   \n",
       "4     8.0  harry potter boxed set  books 1-5 (harry potte...   \n",
       "\n",
       "                      authors  average_rating        isbn         isbn13  \\\n",
       "0  j.k. rowling/mary grandpré            4.57  0439785960  9780439785969   \n",
       "1  j.k. rowling/mary grandpré            4.49  0439358078  9780439358071   \n",
       "2                j.k. rowling            4.42  0439554896  9780439554893   \n",
       "3  j.k. rowling/mary grandpré            4.56  043965548X  9780439655484   \n",
       "4  j.k. rowling/mary grandpré            4.78  0439682584  9780439682589   \n",
       "\n",
       "  language_code    num_pages  ratings_count  text_reviews_count  \\\n",
       "0           eng        652.0      2095690.0             27591.0   \n",
       "1           eng        870.0      2153167.0             29221.0   \n",
       "2           eng        352.0         6333.0               244.0   \n",
       "3           eng        435.0      2339585.0             36325.0   \n",
       "4           eng       2690.0        41428.0               164.0   \n",
       "\n",
       "  publication_date        publisher  \n",
       "0       2006-09-16  Scholastic Inc.  \n",
       "1       2004-09-01  Scholastic Inc.  \n",
       "2       2003-11-01       Scholastic  \n",
       "3       2004-05-01  Scholastic Inc.  \n",
       "4       2004-09-13       Scholastic  "
      ],
      "text/html": [
       "<div>\n",
       "<style scoped>\n",
       "    .dataframe tbody tr th:only-of-type {\n",
       "        vertical-align: middle;\n",
       "    }\n",
       "\n",
       "    .dataframe tbody tr th {\n",
       "        vertical-align: top;\n",
       "    }\n",
       "\n",
       "    .dataframe thead th {\n",
       "        text-align: right;\n",
       "    }\n",
       "</style>\n",
       "<table border=\"1\" class=\"dataframe\">\n",
       "  <thead>\n",
       "    <tr style=\"text-align: right;\">\n",
       "      <th></th>\n",
       "      <th>bookID</th>\n",
       "      <th>title</th>\n",
       "      <th>authors</th>\n",
       "      <th>average_rating</th>\n",
       "      <th>isbn</th>\n",
       "      <th>isbn13</th>\n",
       "      <th>language_code</th>\n",
       "      <th>num_pages</th>\n",
       "      <th>ratings_count</th>\n",
       "      <th>text_reviews_count</th>\n",
       "      <th>publication_date</th>\n",
       "      <th>publisher</th>\n",
       "    </tr>\n",
       "  </thead>\n",
       "  <tbody>\n",
       "    <tr>\n",
       "      <th>0</th>\n",
       "      <td>1.0</td>\n",
       "      <td>harry potter and the half-blood prince (harry ...</td>\n",
       "      <td>j.k. rowling/mary grandpré</td>\n",
       "      <td>4.57</td>\n",
       "      <td>0439785960</td>\n",
       "      <td>9780439785969</td>\n",
       "      <td>eng</td>\n",
       "      <td>652.0</td>\n",
       "      <td>2095690.0</td>\n",
       "      <td>27591.0</td>\n",
       "      <td>2006-09-16</td>\n",
       "      <td>Scholastic Inc.</td>\n",
       "    </tr>\n",
       "    <tr>\n",
       "      <th>1</th>\n",
       "      <td>2.0</td>\n",
       "      <td>harry potter and the order of the phoenix (har...</td>\n",
       "      <td>j.k. rowling/mary grandpré</td>\n",
       "      <td>4.49</td>\n",
       "      <td>0439358078</td>\n",
       "      <td>9780439358071</td>\n",
       "      <td>eng</td>\n",
       "      <td>870.0</td>\n",
       "      <td>2153167.0</td>\n",
       "      <td>29221.0</td>\n",
       "      <td>2004-09-01</td>\n",
       "      <td>Scholastic Inc.</td>\n",
       "    </tr>\n",
       "    <tr>\n",
       "      <th>2</th>\n",
       "      <td>4.0</td>\n",
       "      <td>harry potter and the chamber of secrets (harry...</td>\n",
       "      <td>j.k. rowling</td>\n",
       "      <td>4.42</td>\n",
       "      <td>0439554896</td>\n",
       "      <td>9780439554893</td>\n",
       "      <td>eng</td>\n",
       "      <td>352.0</td>\n",
       "      <td>6333.0</td>\n",
       "      <td>244.0</td>\n",
       "      <td>2003-11-01</td>\n",
       "      <td>Scholastic</td>\n",
       "    </tr>\n",
       "    <tr>\n",
       "      <th>3</th>\n",
       "      <td>5.0</td>\n",
       "      <td>harry potter and the prisoner of azkaban (harr...</td>\n",
       "      <td>j.k. rowling/mary grandpré</td>\n",
       "      <td>4.56</td>\n",
       "      <td>043965548X</td>\n",
       "      <td>9780439655484</td>\n",
       "      <td>eng</td>\n",
       "      <td>435.0</td>\n",
       "      <td>2339585.0</td>\n",
       "      <td>36325.0</td>\n",
       "      <td>2004-05-01</td>\n",
       "      <td>Scholastic Inc.</td>\n",
       "    </tr>\n",
       "    <tr>\n",
       "      <th>4</th>\n",
       "      <td>8.0</td>\n",
       "      <td>harry potter boxed set  books 1-5 (harry potte...</td>\n",
       "      <td>j.k. rowling/mary grandpré</td>\n",
       "      <td>4.78</td>\n",
       "      <td>0439682584</td>\n",
       "      <td>9780439682589</td>\n",
       "      <td>eng</td>\n",
       "      <td>2690.0</td>\n",
       "      <td>41428.0</td>\n",
       "      <td>164.0</td>\n",
       "      <td>2004-09-13</td>\n",
       "      <td>Scholastic</td>\n",
       "    </tr>\n",
       "  </tbody>\n",
       "</table>\n",
       "</div>"
      ]
     },
     "execution_count": 14,
     "metadata": {},
     "output_type": "execute_result"
    }
   ],
   "execution_count": 14
  },
  {
   "cell_type": "markdown",
   "id": "b53d0984",
   "metadata": {},
   "source": [
    "<h4><u>Extracting Duplicates</u></h4>\n",
    "\n",
    "Next let's check for duplicate books. The first thing to check is if any of the rows contain the same data as any other row. This can be done using the <b>duplicated</b> function similar to DataCamp's Chapter 1. "
   ]
  },
  {
   "cell_type": "code",
   "id": "7f3623ba",
   "metadata": {
    "ExecuteTime": {
     "end_time": "2024-11-07T12:31:01.821303Z",
     "start_time": "2024-11-07T12:31:01.799821Z"
    }
   },
   "source": [
    "# Check if any row is contains the exact values of any other row \n",
    "dplct_rows = gdrd_df.duplicated()\n",
    "\n",
    "# Print the shape of gdrd_df[dplct_rows] to see if the number of rows is more than 0. If it is there are duplicates.\n",
    "gdrd_df[dplct_rows].shape"
   ],
   "outputs": [
    {
     "data": {
      "text/plain": [
       "(0, 12)"
      ]
     },
     "execution_count": 15,
     "metadata": {},
     "output_type": "execute_result"
    }
   ],
   "execution_count": 15
  },
  {
   "cell_type": "markdown",
   "id": "c7a08a36",
   "metadata": {},
   "source": [
    "No row is an exact duplicate of any other row in <b><i>gdrd_df</i></b>. For this Case Study, it is also of interest to see which <i>titles</i> are duplicates of each other. This can be done by using <b>duplicated</b> with the <i>title</i> column. "
   ]
  },
  {
   "cell_type": "code",
   "id": "fa391127",
   "metadata": {
    "ExecuteTime": {
     "end_time": "2024-11-07T12:31:38.914959Z",
     "start_time": "2024-11-07T12:31:38.903651Z"
    }
   },
   "source": [
    "# Get titles that are duplicates \n",
    "dplct_titles = gdrd_df.duplicated(subset = [\"title\"], keep = False)\n",
    "\n",
    "# Store duplicate titles view \n",
    "title_dplct = gdrd_df[dplct_titles]\n",
    "\n",
    "# Print the number of rows that contain duplicated titles\n",
    "print(title_dplct.shape[0])\n",
    "\n",
    "# Print the value counts of the duplicate titles \n",
    "title_dplct[\"title\"].value_counts()\n"
   ],
   "outputs": [
    {
     "name": "stdout",
     "output_type": "stream",
     "text": [
      "1323\n"
     ]
    },
    {
     "data": {
      "text/plain": [
       "title\n",
       "the iliad                 9\n",
       "the brothers karamazov    9\n",
       "anna karenina             8\n",
       "the odyssey               8\n",
       "'salem's lot              8\n",
       "                         ..\n",
       "the valkyries             2\n",
       "medea                     2\n",
       "the oresteia              2\n",
       "candide: or  optimism     2\n",
       "americana                 2\n",
       "Name: count, Length: 511, dtype: int64"
      ]
     },
     "execution_count": 16,
     "metadata": {},
     "output_type": "execute_result"
    }
   ],
   "execution_count": 16
  },
  {
   "cell_type": "markdown",
   "id": "4b97e42e",
   "metadata": {},
   "source": [
    "There are many different ways in which duplicate <i>title</i> values could be processed to keep. For simplicity, the <span class=\"str\">first</span> occurence of the duplicate <i>title</i> will be kept in the <b><i>gdrd_df</i></b> DataFrame and all others will be dropped. "
   ]
  },
  {
   "cell_type": "code",
   "id": "969385df",
   "metadata": {
    "ExecuteTime": {
     "end_time": "2024-11-07T12:31:59.536058Z",
     "start_time": "2024-11-07T12:31:59.523035Z"
    }
   },
   "source": [
    "# Drop duplicate titles from gdrd_df. Reset the data frames index to start at 0. \n",
    "gdrd_df.drop_duplicates(subset = [\"title\"], keep = \"first\", inplace = True, ignore_index = True)\n",
    "\n",
    "# Print the shape of gdrd_df after dropping duplicates\n",
    "gdrd_df.shape"
   ],
   "outputs": [
    {
     "data": {
      "text/plain": [
       "(10283, 12)"
      ]
     },
     "execution_count": 18,
     "metadata": {},
     "output_type": "execute_result"
    }
   ],
   "execution_count": 18
  },
  {
   "cell_type": "markdown",
   "id": "2b01192e",
   "metadata": {},
   "source": [
    "<h4><u>Creating a Categorical Column</u></h4>\n",
    "\n",
    "The <b><i>gdrd_df</i></b> now has rows with duplicate <i>title</i> values removed. Let's add a user defined column representing the <i>average_rating</i> of the book as a <b><i>categorical</i></b> value. A <span class=\"str\"> low </span> ranking will represent values <span class=\"num\">[0, < 2]</span>, a <span class=\"str\">medium</span> rating will represent values <span class=\"num\">[2, < 4]</span>, and a <span class=\"str\">high</span> rating will represent values <span class=\"num\">[4, 5]</span>. "
   ]
  },
  {
   "cell_type": "code",
   "id": "cf8785a1",
   "metadata": {
    "ExecuteTime": {
     "end_time": "2024-11-07T12:32:32.858026Z",
     "start_time": "2024-11-07T12:32:32.849988Z"
    }
   },
   "source": [
    "# Create a list to hold the names for the categories\n",
    "cat_names = [\"low\", \"medium\", \"high\"]\n",
    "\n",
    "# Create a list containing the range of the categories. Set the last value slightly larger than the max rating of 5 \n",
    "val_range = [0, 2, 4, 5.01]\n",
    "\n",
    "# Create the categorical column rating_ctgry. \n",
    "gdrd_df[\"rating_ctgry\"] = pd.cut(gdrd_df[\"average_rating\"], bins = val_range, labels = cat_names, right = False)\n",
    "\n",
    "# Check that rating_ctgry is categorical \n",
    "assert gdrd_df[\"rating_ctgry\"].dtype == \"category\""
   ],
   "outputs": [],
   "execution_count": 19
  },
  {
   "cell_type": "code",
   "id": "b3df4d27",
   "metadata": {
    "ExecuteTime": {
     "end_time": "2024-11-07T12:32:37.187177Z",
     "start_time": "2024-11-07T12:32:37.171034Z"
    }
   },
   "source": [
    "# Display the first 10 rows with only the average_rating and cat_rate columns \n",
    "gdrd_df[[\"average_rating\",\"rating_ctgry\"]].head(10)"
   ],
   "outputs": [
    {
     "data": {
      "text/plain": [
       "   average_rating rating_ctgry\n",
       "0            4.57         high\n",
       "1            4.49         high\n",
       "2            4.42         high\n",
       "3            4.56         high\n",
       "4            4.78         high\n",
       "5            3.74       medium\n",
       "6            4.73         high\n",
       "7            4.38         high\n",
       "8            4.38         high\n",
       "9            4.22         high"
      ],
      "text/html": [
       "<div>\n",
       "<style scoped>\n",
       "    .dataframe tbody tr th:only-of-type {\n",
       "        vertical-align: middle;\n",
       "    }\n",
       "\n",
       "    .dataframe tbody tr th {\n",
       "        vertical-align: top;\n",
       "    }\n",
       "\n",
       "    .dataframe thead th {\n",
       "        text-align: right;\n",
       "    }\n",
       "</style>\n",
       "<table border=\"1\" class=\"dataframe\">\n",
       "  <thead>\n",
       "    <tr style=\"text-align: right;\">\n",
       "      <th></th>\n",
       "      <th>average_rating</th>\n",
       "      <th>rating_ctgry</th>\n",
       "    </tr>\n",
       "  </thead>\n",
       "  <tbody>\n",
       "    <tr>\n",
       "      <th>0</th>\n",
       "      <td>4.57</td>\n",
       "      <td>high</td>\n",
       "    </tr>\n",
       "    <tr>\n",
       "      <th>1</th>\n",
       "      <td>4.49</td>\n",
       "      <td>high</td>\n",
       "    </tr>\n",
       "    <tr>\n",
       "      <th>2</th>\n",
       "      <td>4.42</td>\n",
       "      <td>high</td>\n",
       "    </tr>\n",
       "    <tr>\n",
       "      <th>3</th>\n",
       "      <td>4.56</td>\n",
       "      <td>high</td>\n",
       "    </tr>\n",
       "    <tr>\n",
       "      <th>4</th>\n",
       "      <td>4.78</td>\n",
       "      <td>high</td>\n",
       "    </tr>\n",
       "    <tr>\n",
       "      <th>5</th>\n",
       "      <td>3.74</td>\n",
       "      <td>medium</td>\n",
       "    </tr>\n",
       "    <tr>\n",
       "      <th>6</th>\n",
       "      <td>4.73</td>\n",
       "      <td>high</td>\n",
       "    </tr>\n",
       "    <tr>\n",
       "      <th>7</th>\n",
       "      <td>4.38</td>\n",
       "      <td>high</td>\n",
       "    </tr>\n",
       "    <tr>\n",
       "      <th>8</th>\n",
       "      <td>4.38</td>\n",
       "      <td>high</td>\n",
       "    </tr>\n",
       "    <tr>\n",
       "      <th>9</th>\n",
       "      <td>4.22</td>\n",
       "      <td>high</td>\n",
       "    </tr>\n",
       "  </tbody>\n",
       "</table>\n",
       "</div>"
      ]
     },
     "execution_count": 20,
     "metadata": {},
     "output_type": "execute_result"
    }
   ],
   "execution_count": 20
  },
  {
   "cell_type": "markdown",
   "id": "49848f38",
   "metadata": {},
   "source": [
    "Now <b><i>gdrd_df</i></b> has a <i>category</i> column <i>rating_ctgry</i> that places the <i>average_rating</i> value into the correct category. "
   ]
  },
  {
   "cell_type": "markdown",
   "id": "87ecab3b",
   "metadata": {},
   "source": [
    "<h4><u>Exploring the Data</u></h4>\n",
    "\n",
    "The <b><i>Goodreads-books</i></b> dataset stored in <b><i>gdrd_df</i></b> is now ready to be used to gain insights into the data. The Code cells below will show some examples of how <b><i>gdrd_df</i></b> can be used. "
   ]
  },
  {
   "cell_type": "markdown",
   "id": "1ebe0ecd",
   "metadata": {},
   "source": [
    "<h4><u>Example 1: Selecting by Date</u></h4>\n",
    "\n",
    "Return the <i>title</i> and <i>publication_date</i> for all rows in <b><i>gdrd_df</i></b> in which a book was published from <span class=\"num\">2009 to 2011</span>. There are many different ways this could be done. The Code Cell below only shows one of them. "
   ]
  },
  {
   "cell_type": "code",
   "id": "19a2f98d",
   "metadata": {
    "ExecuteTime": {
     "end_time": "2024-11-07T12:33:22.858532Z",
     "start_time": "2024-11-07T12:33:22.843933Z"
    }
   },
   "source": [
    "# Create a list of date ranges between 2009 - 2011. Each item in the list is in MM/DD/YYY format\n",
    "year_range = pd.date_range(start = \"2009\", end = \"12/31/2011\")\n",
    "\n",
    "# Display the title and publication date of the rows in which the publication date occurred between [2009, 2011]\n",
    "gdrd_df[gdrd_df[\"publication_date\"].isin(year_range)].loc[:,[\"title\", \"publication_date\"]]"
   ],
   "outputs": [
    {
     "data": {
      "text/plain": [
       "                                                   title publication_date\n",
       "126                                        sand and foam       2011-06-14\n",
       "145    the phantom tollbooth: a children's play in tw...       2011-01-12\n",
       "276                                       the egypt game       2009-07-07\n",
       "301                  the good earth (house of earth  #1)       2009-03-04\n",
       "470                                     el último lector       2009-07-15\n",
       "...                                                  ...              ...\n",
       "9743                            tai-pan (asian saga  #2)       2009-09-01\n",
       "9875   harry potter and the philosopher's stone (harr...       2010-07-01\n",
       "9964                                         tell no one       2009-08-25\n",
       "10128                                einstein's monsters       2011-01-05\n",
       "10263                                   fantastic mr fox       2011-01-05\n",
       "\n",
       "[95 rows x 2 columns]"
      ],
      "text/html": [
       "<div>\n",
       "<style scoped>\n",
       "    .dataframe tbody tr th:only-of-type {\n",
       "        vertical-align: middle;\n",
       "    }\n",
       "\n",
       "    .dataframe tbody tr th {\n",
       "        vertical-align: top;\n",
       "    }\n",
       "\n",
       "    .dataframe thead th {\n",
       "        text-align: right;\n",
       "    }\n",
       "</style>\n",
       "<table border=\"1\" class=\"dataframe\">\n",
       "  <thead>\n",
       "    <tr style=\"text-align: right;\">\n",
       "      <th></th>\n",
       "      <th>title</th>\n",
       "      <th>publication_date</th>\n",
       "    </tr>\n",
       "  </thead>\n",
       "  <tbody>\n",
       "    <tr>\n",
       "      <th>126</th>\n",
       "      <td>sand and foam</td>\n",
       "      <td>2011-06-14</td>\n",
       "    </tr>\n",
       "    <tr>\n",
       "      <th>145</th>\n",
       "      <td>the phantom tollbooth: a children's play in tw...</td>\n",
       "      <td>2011-01-12</td>\n",
       "    </tr>\n",
       "    <tr>\n",
       "      <th>276</th>\n",
       "      <td>the egypt game</td>\n",
       "      <td>2009-07-07</td>\n",
       "    </tr>\n",
       "    <tr>\n",
       "      <th>301</th>\n",
       "      <td>the good earth (house of earth  #1)</td>\n",
       "      <td>2009-03-04</td>\n",
       "    </tr>\n",
       "    <tr>\n",
       "      <th>470</th>\n",
       "      <td>el último lector</td>\n",
       "      <td>2009-07-15</td>\n",
       "    </tr>\n",
       "    <tr>\n",
       "      <th>...</th>\n",
       "      <td>...</td>\n",
       "      <td>...</td>\n",
       "    </tr>\n",
       "    <tr>\n",
       "      <th>9743</th>\n",
       "      <td>tai-pan (asian saga  #2)</td>\n",
       "      <td>2009-09-01</td>\n",
       "    </tr>\n",
       "    <tr>\n",
       "      <th>9875</th>\n",
       "      <td>harry potter and the philosopher's stone (harr...</td>\n",
       "      <td>2010-07-01</td>\n",
       "    </tr>\n",
       "    <tr>\n",
       "      <th>9964</th>\n",
       "      <td>tell no one</td>\n",
       "      <td>2009-08-25</td>\n",
       "    </tr>\n",
       "    <tr>\n",
       "      <th>10128</th>\n",
       "      <td>einstein's monsters</td>\n",
       "      <td>2011-01-05</td>\n",
       "    </tr>\n",
       "    <tr>\n",
       "      <th>10263</th>\n",
       "      <td>fantastic mr fox</td>\n",
       "      <td>2011-01-05</td>\n",
       "    </tr>\n",
       "  </tbody>\n",
       "</table>\n",
       "<p>95 rows × 2 columns</p>\n",
       "</div>"
      ]
     },
     "execution_count": 21,
     "metadata": {},
     "output_type": "execute_result"
    }
   ],
   "execution_count": 21
  },
  {
   "cell_type": "markdown",
   "id": "6280f16f",
   "metadata": {},
   "source": [
    "<h4><u>Example 2: Categorical Counts</u></h4>\n",
    "\n",
    "Print the number of books that are in each category for the <i>rating_ctgry</i> column. "
   ]
  },
  {
   "cell_type": "code",
   "id": "81720571",
   "metadata": {
    "ExecuteTime": {
     "end_time": "2024-11-07T12:33:45.688025Z",
     "start_time": "2024-11-07T12:33:45.683604Z"
    }
   },
   "source": [
    "# Print the counts of the books in each category for rating_ctgry\n",
    "print(gdrd_df[\"rating_ctgry\"].value_counts())"
   ],
   "outputs": [
    {
     "name": "stdout",
     "output_type": "stream",
     "text": [
      "rating_ctgry\n",
      "medium    5663\n",
      "high      4592\n",
      "low         28\n",
      "Name: count, dtype: int64\n"
     ]
    }
   ],
   "execution_count": 22
  },
  {
   "cell_type": "markdown",
   "id": "763b6758",
   "metadata": {},
   "source": [
    "<h4><u>Example 3: Plotting the Average Rating</u></h4>\n",
    "\n",
    "Create a view of <b><i>gdrd_df</i></b> containing the top 100 rated books. Create a scatterplot showing the relationship between <i>average_rating</i> and <i>ratings_count</i> for the top 100. "
   ]
  },
  {
   "cell_type": "code",
   "id": "70c504d9",
   "metadata": {
    "scrolled": false,
    "ExecuteTime": {
     "end_time": "2024-11-07T12:34:11.478311Z",
     "start_time": "2024-11-07T12:34:11.375682Z"
    }
   },
   "source": [
    "# Extract the top 100 rated books \n",
    "gdrd_top_100 = gdrd_df.sort_values(by = \"average_rating\", axis = 0, ascending = False)[:][0:100]\n",
    "\n",
    "# Create scatterplot that shows the relationship between average_rating and ratings_count\n",
    "plt.title(\"Top 100 Rated Books\\n Relationship between Average Rating and Ratings Count\")\n",
    "plt.xlabel(\"Number of Ratings (Ratings Count)\")\n",
    "plt.ylabel(\"Average Rating\")\n",
    "plt.scatter(gdrd_top_100[\"ratings_count\"], gdrd_top_100[\"average_rating\"])\n",
    "plt.show()\n"
   ],
   "outputs": [
    {
     "data": {
      "text/plain": [
       "<Figure size 640x480 with 1 Axes>"
      ],
      "image/png": "[encoded data removed]"
     },
     "metadata": {},
     "output_type": "display_data"
    }
   ],
   "execution_count": 23
  },
  {
   "cell_type": "markdown",
   "id": "989859f8",
   "metadata": {},
   "source": [
    "The scatterplot above shows that most of the highly rated books from the <b><i>Goodreads-books</i></b> dataset have a low number of users rating them. Most books have less than <span class=\"num\">20,000</span> ratings. "
   ]
  },
  {
   "cell_type": "markdown",
   "id": "2243d22a",
   "metadata": {},
   "source": [
    "<h4><u>Example 4: Highly Rated Books with more than 20,000 Ratings</u></h4>\n",
    "\n",
    "Display the <i>title, average_rating, and the number of ratings</i> from <b><i>gdrd_top_100</i></b> with a <i>ratings_count</i> <span class=\"num\">greater than 20,000</span> \n"
   ]
  },
  {
   "cell_type": "code",
   "id": "6d4cba34",
   "metadata": {
    "ExecuteTime": {
     "end_time": "2024-11-07T12:34:17.574276Z",
     "start_time": "2024-11-07T12:34:17.563739Z"
    }
   },
   "source": [
    "gdrd_top_100[gdrd_top_100[\"ratings_count\"] > 20000].loc[:,[\"title\", \"average_rating\", \"ratings_count\"]]"
   ],
   "outputs": [
    {
     "data": {
      "text/plain": [
       "                                                  title  average_rating  \\\n",
       "6059                     the complete calvin and hobbes            4.82   \n",
       "4     harry potter boxed set  books 1-5 (harry potte...            4.78   \n",
       "6061      it's a magical world (calvin and hobbes  #11)            4.76   \n",
       "6          harry potter collection (harry potter  #1-6)            4.73   \n",
       "6063                           the days are just packed            4.69   \n",
       "6060       the calvin and hobbes tenth anniversary book            4.63   \n",
       "67    the lord of the rings: the art of the fellowsh...            4.59   \n",
       "20    j.r.r. tolkien 4-book boxed set: the hobbit an...            4.59   \n",
       "\n",
       "      ratings_count  \n",
       "6059        32213.0  \n",
       "4           41428.0  \n",
       "6061        23875.0  \n",
       "6           28242.0  \n",
       "6063        20308.0  \n",
       "6060        49122.0  \n",
       "67          26153.0  \n",
       "20         101233.0  "
      ],
      "text/html": [
       "<div>\n",
       "<style scoped>\n",
       "    .dataframe tbody tr th:only-of-type {\n",
       "        vertical-align: middle;\n",
       "    }\n",
       "\n",
       "    .dataframe tbody tr th {\n",
       "        vertical-align: top;\n",
       "    }\n",
       "\n",
       "    .dataframe thead th {\n",
       "        text-align: right;\n",
       "    }\n",
       "</style>\n",
       "<table border=\"1\" class=\"dataframe\">\n",
       "  <thead>\n",
       "    <tr style=\"text-align: right;\">\n",
       "      <th></th>\n",
       "      <th>title</th>\n",
       "      <th>average_rating</th>\n",
       "      <th>ratings_count</th>\n",
       "    </tr>\n",
       "  </thead>\n",
       "  <tbody>\n",
       "    <tr>\n",
       "      <th>6059</th>\n",
       "      <td>the complete calvin and hobbes</td>\n",
       "      <td>4.82</td>\n",
       "      <td>32213.0</td>\n",
       "    </tr>\n",
       "    <tr>\n",
       "      <th>4</th>\n",
       "      <td>harry potter boxed set  books 1-5 (harry potte...</td>\n",
       "      <td>4.78</td>\n",
       "      <td>41428.0</td>\n",
       "    </tr>\n",
       "    <tr>\n",
       "      <th>6061</th>\n",
       "      <td>it's a magical world (calvin and hobbes  #11)</td>\n",
       "      <td>4.76</td>\n",
       "      <td>23875.0</td>\n",
       "    </tr>\n",
       "    <tr>\n",
       "      <th>6</th>\n",
       "      <td>harry potter collection (harry potter  #1-6)</td>\n",
       "      <td>4.73</td>\n",
       "      <td>28242.0</td>\n",
       "    </tr>\n",
       "    <tr>\n",
       "      <th>6063</th>\n",
       "      <td>the days are just packed</td>\n",
       "      <td>4.69</td>\n",
       "      <td>20308.0</td>\n",
       "    </tr>\n",
       "    <tr>\n",
       "      <th>6060</th>\n",
       "      <td>the calvin and hobbes tenth anniversary book</td>\n",
       "      <td>4.63</td>\n",
       "      <td>49122.0</td>\n",
       "    </tr>\n",
       "    <tr>\n",
       "      <th>67</th>\n",
       "      <td>the lord of the rings: the art of the fellowsh...</td>\n",
       "      <td>4.59</td>\n",
       "      <td>26153.0</td>\n",
       "    </tr>\n",
       "    <tr>\n",
       "      <th>20</th>\n",
       "      <td>j.r.r. tolkien 4-book boxed set: the hobbit an...</td>\n",
       "      <td>4.59</td>\n",
       "      <td>101233.0</td>\n",
       "    </tr>\n",
       "  </tbody>\n",
       "</table>\n",
       "</div>"
      ]
     },
     "execution_count": 24,
     "metadata": {},
     "output_type": "execute_result"
    }
   ],
   "execution_count": 24
  },
  {
   "cell_type": "markdown",
   "id": "723ca32d",
   "metadata": {},
   "source": [
    "<h3 class=\"yt\">Your Turns</h3>\n",
    "\n",
    "In the <span class=\"yt\"> Your Turns</span> below, you will work with the <b><i>Amazon Top 50 Bestselling Books 2009 - 2019</i></b> csv file. You will pre-process (clean) this dataset, examine the dataset, and use it with the <b><i>Goodreads - books</i></b> dataset from above. "
   ]
  },
  {
   "cell_type": "markdown",
   "id": "6f8125cd",
   "metadata": {},
   "source": [
    "<h3 class=\"yt\">Your Turn: 1</h3>\n",
    "\n",
    "Read in the <b><i>Amazon Top 50 Bestselling Books 2009 - 2019</i></b> dataset, <span class=\"str\">amazon_bestsellers_with_categories.csv</span> , into a DataFrame called amazon_df. Display <b>info()</b> about the DataFrame and the <span class=\"num\">first 5 rows</span>."
   ]
  },
  {
   "cell_type": "code",
   "id": "d72c644f",
   "metadata": {
    "ExecuteTime": {
     "end_time": "2024-11-07T13:06:34.573180Z",
     "start_time": "2024-11-07T13:06:34.559453Z"
    }
   },
   "source": [
    "amazon_df = pd.read_csv(\"./Data/amazon_bestsellers_with_categories.csv\", sep = \",\", on_bad_lines = \"warn\")\n",
    "print(amazon_df.info)\n",
    "print(amazon_df.head(5))\n"
   ],
   "outputs": [
    {
     "name": "stdout",
     "output_type": "stream",
     "text": [
      "<bound method DataFrame.info of                                                   Name  \\\n",
      "0                        10-Day Green Smoothie Cleanse   \n",
      "1                                    11/22/63: A Novel   \n",
      "2              12 Rules for Life: An Antidote to Chaos   \n",
      "3                               1984 (Signet Classics)   \n",
      "4    5,000 Awesome Facts (About Everything!) (Natio...   \n",
      "..                                                 ...   \n",
      "545       Wrecking Ball (Diary of a Wimpy Kid Book 14)   \n",
      "546  You Are a Badass: How to Stop Doubting Your Gr...   \n",
      "547  You Are a Badass: How to Stop Doubting Your Gr...   \n",
      "548  You Are a Badass: How to Stop Doubting Your Gr...   \n",
      "549  You Are a Badass: How to Stop Doubting Your Gr...   \n",
      "\n",
      "                       Author  User Rating  Reviews  Price  Year        Genre  \n",
      "0                    JJ Smith          4.7    17350      8  2016  Non Fiction  \n",
      "1                Stephen King          4.6     2052     22  2011      Fiction  \n",
      "2          Jordan B. Peterson          4.7    18979     15  2018  Non Fiction  \n",
      "3               George Orwell          4.7    21424      6  2017      Fiction  \n",
      "4    National Geographic Kids          4.8     7665     12  2019  Non Fiction  \n",
      "..                        ...          ...      ...    ...   ...          ...  \n",
      "545               Jeff Kinney          4.9     9413      8  2019      Fiction  \n",
      "546               Jen Sincero          4.7    14331      8  2016  Non Fiction  \n",
      "547               Jen Sincero          4.7    14331      8  2017  Non Fiction  \n",
      "548               Jen Sincero          4.7    14331      8  2018  Non Fiction  \n",
      "549               Jen Sincero          4.7    14331      8  2019  Non Fiction  \n",
      "\n",
      "[550 rows x 7 columns]>\n",
      "                                                Name  \\\n",
      "0                      10-Day Green Smoothie Cleanse   \n",
      "1                                  11/22/63: A Novel   \n",
      "2            12 Rules for Life: An Antidote to Chaos   \n",
      "3                             1984 (Signet Classics)   \n",
      "4  5,000 Awesome Facts (About Everything!) (Natio...   \n",
      "\n",
      "                     Author  User Rating  Reviews  Price  Year        Genre  \n",
      "0                  JJ Smith          4.7    17350      8  2016  Non Fiction  \n",
      "1              Stephen King          4.6     2052     22  2011      Fiction  \n",
      "2        Jordan B. Peterson          4.7    18979     15  2018  Non Fiction  \n",
      "3             George Orwell          4.7    21424      6  2017      Fiction  \n",
      "4  National Geographic Kids          4.8     7665     12  2019  Non Fiction  \n"
     ]
    }
   ],
   "execution_count": 76
  },
  {
   "cell_type": "markdown",
   "id": "d001fa8a",
   "metadata": {},
   "source": [
    "<h3 class=\"yt\">Your Turn: 2</h3>\n",
    "\n",
    "Convert the <b><i>amazon_df</i></b> <i>Year</i> column to datetime data type. <b><i>Hint 1:</i></b> the <b><i>format</i></b> of the values in <i>Year</i> means only the %Y needs to be specified. <b><i>Hint 2:</i></b>The year can be extracted from a pandas datetime value by specifying <b><i>.dt.year</i></b> for the <i>Year</i> column after converting to datetime. The <i>Year</i> column should only contain values such as <span class=\"num\">2016, 2017, etc.</span>. It should not contain values such as <span class=\"num\">2016-01-01, 2017-01-01, etc.</span>. \n",
    "\n",
    "Verify that the conversion was correct using <span class=\"bltn\">assert</span>. <Span class=\"bltn\">Print</span> the first <span class=\"num\">5 values</span> of the <i>Year</i> column. \n"
   ]
  },
  {
   "cell_type": "code",
   "id": "74b1e29b",
   "metadata": {
    "ExecuteTime": {
     "end_time": "2024-11-07T13:06:40.288290Z",
     "start_time": "2024-11-07T13:06:40.279450Z"
    }
   },
   "source": [
    "#We need those thingys at the end or else it'll throw a assert error\n",
    "#because we will be trying to parse NaN values but now it'll work.\n",
    "amazon_df[\"Year\"] = pd.to_datetime(amazon_df[\"Year\"], errors = \"coerce\", format = \"%Y\").dt.year.fillna(0).astype(int)\n",
    "\n",
    "assert amazon_df[\"Year\"].dtype in [\"int64\", \"float64\"]\n",
    "\n",
    "amazon_df[\"Year\"].head(5)\n",
    "\n",
    "amazon_df"
   ],
   "outputs": [
    {
     "data": {
      "text/plain": [
       "                                                  Name  \\\n",
       "0                        10-Day Green Smoothie Cleanse   \n",
       "1                                    11/22/63: A Novel   \n",
       "2              12 Rules for Life: An Antidote to Chaos   \n",
       "3                               1984 (Signet Classics)   \n",
       "4    5,000 Awesome Facts (About Everything!) (Natio...   \n",
       "..                                                 ...   \n",
       "545       Wrecking Ball (Diary of a Wimpy Kid Book 14)   \n",
       "546  You Are a Badass: How to Stop Doubting Your Gr...   \n",
       "547  You Are a Badass: How to Stop Doubting Your Gr...   \n",
       "548  You Are a Badass: How to Stop Doubting Your Gr...   \n",
       "549  You Are a Badass: How to Stop Doubting Your Gr...   \n",
       "\n",
       "                       Author  User Rating  Reviews  Price  Year        Genre  \n",
       "0                    JJ Smith          4.7    17350      8  2016  Non Fiction  \n",
       "1                Stephen King          4.6     2052     22  2011      Fiction  \n",
       "2          Jordan B. Peterson          4.7    18979     15  2018  Non Fiction  \n",
       "3               George Orwell          4.7    21424      6  2017      Fiction  \n",
       "4    National Geographic Kids          4.8     7665     12  2019  Non Fiction  \n",
       "..                        ...          ...      ...    ...   ...          ...  \n",
       "545               Jeff Kinney          4.9     9413      8  2019      Fiction  \n",
       "546               Jen Sincero          4.7    14331      8  2016  Non Fiction  \n",
       "547               Jen Sincero          4.7    14331      8  2017  Non Fiction  \n",
       "548               Jen Sincero          4.7    14331      8  2018  Non Fiction  \n",
       "549               Jen Sincero          4.7    14331      8  2019  Non Fiction  \n",
       "\n",
       "[550 rows x 7 columns]"
      ],
      "text/html": [
       "<div>\n",
       "<style scoped>\n",
       "    .dataframe tbody tr th:only-of-type {\n",
       "        vertical-align: middle;\n",
       "    }\n",
       "\n",
       "    .dataframe tbody tr th {\n",
       "        vertical-align: top;\n",
       "    }\n",
       "\n",
       "    .dataframe thead th {\n",
       "        text-align: right;\n",
       "    }\n",
       "</style>\n",
       "<table border=\"1\" class=\"dataframe\">\n",
       "  <thead>\n",
       "    <tr style=\"text-align: right;\">\n",
       "      <th></th>\n",
       "      <th>Name</th>\n",
       "      <th>Author</th>\n",
       "      <th>User Rating</th>\n",
       "      <th>Reviews</th>\n",
       "      <th>Price</th>\n",
       "      <th>Year</th>\n",
       "      <th>Genre</th>\n",
       "    </tr>\n",
       "  </thead>\n",
       "  <tbody>\n",
       "    <tr>\n",
       "      <th>0</th>\n",
       "      <td>10-Day Green Smoothie Cleanse</td>\n",
       "      <td>JJ Smith</td>\n",
       "      <td>4.7</td>\n",
       "      <td>17350</td>\n",
       "      <td>8</td>\n",
       "      <td>2016</td>\n",
       "      <td>Non Fiction</td>\n",
       "    </tr>\n",
       "    <tr>\n",
       "      <th>1</th>\n",
       "      <td>11/22/63: A Novel</td>\n",
       "      <td>Stephen King</td>\n",
       "      <td>4.6</td>\n",
       "      <td>2052</td>\n",
       "      <td>22</td>\n",
       "      <td>2011</td>\n",
       "      <td>Fiction</td>\n",
       "    </tr>\n",
       "    <tr>\n",
       "      <th>2</th>\n",
       "      <td>12 Rules for Life: An Antidote to Chaos</td>\n",
       "      <td>Jordan B. Peterson</td>\n",
       "      <td>4.7</td>\n",
       "      <td>18979</td>\n",
       "      <td>15</td>\n",
       "      <td>2018</td>\n",
       "      <td>Non Fiction</td>\n",
       "    </tr>\n",
       "    <tr>\n",
       "      <th>3</th>\n",
       "      <td>1984 (Signet Classics)</td>\n",
       "      <td>George Orwell</td>\n",
       "      <td>4.7</td>\n",
       "      <td>21424</td>\n",
       "      <td>6</td>\n",
       "      <td>2017</td>\n",
       "      <td>Fiction</td>\n",
       "    </tr>\n",
       "    <tr>\n",
       "      <th>4</th>\n",
       "      <td>5,000 Awesome Facts (About Everything!) (Natio...</td>\n",
       "      <td>National Geographic Kids</td>\n",
       "      <td>4.8</td>\n",
       "      <td>7665</td>\n",
       "      <td>12</td>\n",
       "      <td>2019</td>\n",
       "      <td>Non Fiction</td>\n",
       "    </tr>\n",
       "    <tr>\n",
       "      <th>...</th>\n",
       "      <td>...</td>\n",
       "      <td>...</td>\n",
       "      <td>...</td>\n",
       "      <td>...</td>\n",
       "      <td>...</td>\n",
       "      <td>...</td>\n",
       "      <td>...</td>\n",
       "    </tr>\n",
       "    <tr>\n",
       "      <th>545</th>\n",
       "      <td>Wrecking Ball (Diary of a Wimpy Kid Book 14)</td>\n",
       "      <td>Jeff Kinney</td>\n",
       "      <td>4.9</td>\n",
       "      <td>9413</td>\n",
       "      <td>8</td>\n",
       "      <td>2019</td>\n",
       "      <td>Fiction</td>\n",
       "    </tr>\n",
       "    <tr>\n",
       "      <th>546</th>\n",
       "      <td>You Are a Badass: How to Stop Doubting Your Gr...</td>\n",
       "      <td>Jen Sincero</td>\n",
       "      <td>4.7</td>\n",
       "      <td>14331</td>\n",
       "      <td>8</td>\n",
       "      <td>2016</td>\n",
       "      <td>Non Fiction</td>\n",
       "    </tr>\n",
       "    <tr>\n",
       "      <th>547</th>\n",
       "      <td>You Are a Badass: How to Stop Doubting Your Gr...</td>\n",
       "      <td>Jen Sincero</td>\n",
       "      <td>4.7</td>\n",
       "      <td>14331</td>\n",
       "      <td>8</td>\n",
       "      <td>2017</td>\n",
       "      <td>Non Fiction</td>\n",
       "    </tr>\n",
       "    <tr>\n",
       "      <th>548</th>\n",
       "      <td>You Are a Badass: How to Stop Doubting Your Gr...</td>\n",
       "      <td>Jen Sincero</td>\n",
       "      <td>4.7</td>\n",
       "      <td>14331</td>\n",
       "      <td>8</td>\n",
       "      <td>2018</td>\n",
       "      <td>Non Fiction</td>\n",
       "    </tr>\n",
       "    <tr>\n",
       "      <th>549</th>\n",
       "      <td>You Are a Badass: How to Stop Doubting Your Gr...</td>\n",
       "      <td>Jen Sincero</td>\n",
       "      <td>4.7</td>\n",
       "      <td>14331</td>\n",
       "      <td>8</td>\n",
       "      <td>2019</td>\n",
       "      <td>Non Fiction</td>\n",
       "    </tr>\n",
       "  </tbody>\n",
       "</table>\n",
       "<p>550 rows × 7 columns</p>\n",
       "</div>"
      ]
     },
     "execution_count": 77,
     "metadata": {},
     "output_type": "execute_result"
    }
   ],
   "execution_count": 77
  },
  {
   "cell_type": "markdown",
   "id": "da239b00",
   "metadata": {},
   "source": [
    "<h3 class=\"yt\">Your Turn: 3</h3>\n",
    "\n",
    "Update the <i>Name</i> and <i>Author</i> columns in <b><i>amazon_df</i></b> to <span class=\"str\">lowercase</span> values. \n",
    "\n",
    "Check that both columns successfully updated to <span class=\"str\">lowercase</span> by using <span class=\"bltn\">assert</span> statements. <b><i>Hint:</i></b> use the <span class=\"bltn\"> assert</span> statement  with <b><i>.str.islower().all()</i></b> and check that the value it returns is <span class=\"bltn\">True</span>. "
   ]
  },
  {
   "cell_type": "code",
   "id": "07c8ea51",
   "metadata": {
    "ExecuteTime": {
     "end_time": "2024-11-07T13:06:44.477162Z",
     "start_time": "2024-11-07T13:06:44.459462Z"
    }
   },
   "source": [
    "#we also don't need to use assert here but i guess it works?\n",
    "#also wanted to do it in one line but above in the case study also works.\n",
    "amazon_df[['Name', \"Author\"]] = amazon_df[[\"Name\", \"Author\"]].apply(lambda x: x.str.lower())\n",
    "\n",
    "assert amazon_df[\"Name\"].str.islower().all() and amazon_df[\"Author\"].str.islower().all()\n",
    "\n",
    "print(amazon_df[\"Name\"].str.islower().head(), amazon_df[\"Author\"].str.islower().head())\n",
    "\n",
    "amazon_df"
   ],
   "outputs": [
    {
     "name": "stdout",
     "output_type": "stream",
     "text": [
      "0    True\n",
      "1    True\n",
      "2    True\n",
      "3    True\n",
      "4    True\n",
      "Name: Name, dtype: bool 0    True\n",
      "1    True\n",
      "2    True\n",
      "3    True\n",
      "4    True\n",
      "Name: Author, dtype: bool\n"
     ]
    },
    {
     "data": {
      "text/plain": [
       "                                                  Name  \\\n",
       "0                        10-day green smoothie cleanse   \n",
       "1                                    11/22/63: a novel   \n",
       "2              12 rules for life: an antidote to chaos   \n",
       "3                               1984 (signet classics)   \n",
       "4    5,000 awesome facts (about everything!) (natio...   \n",
       "..                                                 ...   \n",
       "545       wrecking ball (diary of a wimpy kid book 14)   \n",
       "546  you are a badass: how to stop doubting your gr...   \n",
       "547  you are a badass: how to stop doubting your gr...   \n",
       "548  you are a badass: how to stop doubting your gr...   \n",
       "549  you are a badass: how to stop doubting your gr...   \n",
       "\n",
       "                       Author  User Rating  Reviews  Price  Year        Genre  \n",
       "0                    jj smith          4.7    17350      8  2016  Non Fiction  \n",
       "1                stephen king          4.6     2052     22  2011      Fiction  \n",
       "2          jordan b. peterson          4.7    18979     15  2018  Non Fiction  \n",
       "3               george orwell          4.7    21424      6  2017      Fiction  \n",
       "4    national geographic kids          4.8     7665     12  2019  Non Fiction  \n",
       "..                        ...          ...      ...    ...   ...          ...  \n",
       "545               jeff kinney          4.9     9413      8  2019      Fiction  \n",
       "546               jen sincero          4.7    14331      8  2016  Non Fiction  \n",
       "547               jen sincero          4.7    14331      8  2017  Non Fiction  \n",
       "548               jen sincero          4.7    14331      8  2018  Non Fiction  \n",
       "549               jen sincero          4.7    14331      8  2019  Non Fiction  \n",
       "\n",
       "[550 rows x 7 columns]"
      ],
      "text/html": [
       "<div>\n",
       "<style scoped>\n",
       "    .dataframe tbody tr th:only-of-type {\n",
       "        vertical-align: middle;\n",
       "    }\n",
       "\n",
       "    .dataframe tbody tr th {\n",
       "        vertical-align: top;\n",
       "    }\n",
       "\n",
       "    .dataframe thead th {\n",
       "        text-align: right;\n",
       "    }\n",
       "</style>\n",
       "<table border=\"1\" class=\"dataframe\">\n",
       "  <thead>\n",
       "    <tr style=\"text-align: right;\">\n",
       "      <th></th>\n",
       "      <th>Name</th>\n",
       "      <th>Author</th>\n",
       "      <th>User Rating</th>\n",
       "      <th>Reviews</th>\n",
       "      <th>Price</th>\n",
       "      <th>Year</th>\n",
       "      <th>Genre</th>\n",
       "    </tr>\n",
       "  </thead>\n",
       "  <tbody>\n",
       "    <tr>\n",
       "      <th>0</th>\n",
       "      <td>10-day green smoothie cleanse</td>\n",
       "      <td>jj smith</td>\n",
       "      <td>4.7</td>\n",
       "      <td>17350</td>\n",
       "      <td>8</td>\n",
       "      <td>2016</td>\n",
       "      <td>Non Fiction</td>\n",
       "    </tr>\n",
       "    <tr>\n",
       "      <th>1</th>\n",
       "      <td>11/22/63: a novel</td>\n",
       "      <td>stephen king</td>\n",
       "      <td>4.6</td>\n",
       "      <td>2052</td>\n",
       "      <td>22</td>\n",
       "      <td>2011</td>\n",
       "      <td>Fiction</td>\n",
       "    </tr>\n",
       "    <tr>\n",
       "      <th>2</th>\n",
       "      <td>12 rules for life: an antidote to chaos</td>\n",
       "      <td>jordan b. peterson</td>\n",
       "      <td>4.7</td>\n",
       "      <td>18979</td>\n",
       "      <td>15</td>\n",
       "      <td>2018</td>\n",
       "      <td>Non Fiction</td>\n",
       "    </tr>\n",
       "    <tr>\n",
       "      <th>3</th>\n",
       "      <td>1984 (signet classics)</td>\n",
       "      <td>george orwell</td>\n",
       "      <td>4.7</td>\n",
       "      <td>21424</td>\n",
       "      <td>6</td>\n",
       "      <td>2017</td>\n",
       "      <td>Fiction</td>\n",
       "    </tr>\n",
       "    <tr>\n",
       "      <th>4</th>\n",
       "      <td>5,000 awesome facts (about everything!) (natio...</td>\n",
       "      <td>national geographic kids</td>\n",
       "      <td>4.8</td>\n",
       "      <td>7665</td>\n",
       "      <td>12</td>\n",
       "      <td>2019</td>\n",
       "      <td>Non Fiction</td>\n",
       "    </tr>\n",
       "    <tr>\n",
       "      <th>...</th>\n",
       "      <td>...</td>\n",
       "      <td>...</td>\n",
       "      <td>...</td>\n",
       "      <td>...</td>\n",
       "      <td>...</td>\n",
       "      <td>...</td>\n",
       "      <td>...</td>\n",
       "    </tr>\n",
       "    <tr>\n",
       "      <th>545</th>\n",
       "      <td>wrecking ball (diary of a wimpy kid book 14)</td>\n",
       "      <td>jeff kinney</td>\n",
       "      <td>4.9</td>\n",
       "      <td>9413</td>\n",
       "      <td>8</td>\n",
       "      <td>2019</td>\n",
       "      <td>Fiction</td>\n",
       "    </tr>\n",
       "    <tr>\n",
       "      <th>546</th>\n",
       "      <td>you are a badass: how to stop doubting your gr...</td>\n",
       "      <td>jen sincero</td>\n",
       "      <td>4.7</td>\n",
       "      <td>14331</td>\n",
       "      <td>8</td>\n",
       "      <td>2016</td>\n",
       "      <td>Non Fiction</td>\n",
       "    </tr>\n",
       "    <tr>\n",
       "      <th>547</th>\n",
       "      <td>you are a badass: how to stop doubting your gr...</td>\n",
       "      <td>jen sincero</td>\n",
       "      <td>4.7</td>\n",
       "      <td>14331</td>\n",
       "      <td>8</td>\n",
       "      <td>2017</td>\n",
       "      <td>Non Fiction</td>\n",
       "    </tr>\n",
       "    <tr>\n",
       "      <th>548</th>\n",
       "      <td>you are a badass: how to stop doubting your gr...</td>\n",
       "      <td>jen sincero</td>\n",
       "      <td>4.7</td>\n",
       "      <td>14331</td>\n",
       "      <td>8</td>\n",
       "      <td>2018</td>\n",
       "      <td>Non Fiction</td>\n",
       "    </tr>\n",
       "    <tr>\n",
       "      <th>549</th>\n",
       "      <td>you are a badass: how to stop doubting your gr...</td>\n",
       "      <td>jen sincero</td>\n",
       "      <td>4.7</td>\n",
       "      <td>14331</td>\n",
       "      <td>8</td>\n",
       "      <td>2019</td>\n",
       "      <td>Non Fiction</td>\n",
       "    </tr>\n",
       "  </tbody>\n",
       "</table>\n",
       "<p>550 rows × 7 columns</p>\n",
       "</div>"
      ]
     },
     "execution_count": 78,
     "metadata": {},
     "output_type": "execute_result"
    }
   ],
   "execution_count": 78
  },
  {
   "cell_type": "markdown",
   "id": "1d3b1f18",
   "metadata": {},
   "source": [
    "<h3 class=\"yt\">Your Turn: 4</h3>\n",
    "\n",
    "Remove duplicate <i>Name</i> values from <b><i>amazon_df</i></b>. Specify to <b><i>keep</i></b> the <span class=\"str\">first</span> value. Reset the index of <b><i>amazon_df</i></b> by specifying <b><i>ignore_index</i></b> as <span class=\"bltn\">True</span>. "
   ]
  },
  {
   "cell_type": "code",
   "id": "1bf5d570",
   "metadata": {
    "ExecuteTime": {
     "end_time": "2024-11-07T13:10:37.181260Z",
     "start_time": "2024-11-07T13:10:37.168592Z"
    }
   },
   "source": "amazon_df=amazon_df.drop_duplicates(subset=\"Name\", keep=\"first\").reset_index(drop=True)",
   "outputs": [],
   "execution_count": 87
  },
  {
   "cell_type": "markdown",
   "id": "77ae711d",
   "metadata": {},
   "source": [
    "<h3 class=\"yt\">Your Turn: 5</h3>\n",
    "\n",
    "Sort <b><i>amazon_df</i></b> by <i>User Rating</i> in <b><i>descending</i></b> order. <span class=\"bltn\">Print</span> the <span class=\"num\">first 10 rows</span> of <b><i>amazon_df</i></b>. "
   ]
  },
  {
   "cell_type": "code",
   "id": "14f2af6c",
   "metadata": {
    "ExecuteTime": {
     "end_time": "2024-11-07T13:10:42.812305Z",
     "start_time": "2024-11-07T13:10:42.798556Z"
    }
   },
   "source": "amazon_df.sort_values(by=\"User Rating\", ascending=False).head(10)",
   "outputs": [
    {
     "data": {
      "text/plain": [
       "                                                 Name              Author  \\\n",
       "18  harry potter and the prisoner of azkaban: the ...        j.k. rowling   \n",
       "19  last week tonight with john oliver presents a ...          jill twiss   \n",
       "23  dog man: brawl of the wild: from the creator o...          dav pilkey   \n",
       "22                                 the magnolia story         chip gaines   \n",
       "21                           hamilton: the revolution  lin-manuel miranda   \n",
       "20                                  little blue truck      alice schertle   \n",
       "27  dog man: lord of the fleas: from the creator o...          dav pilkey   \n",
       "26  dog man and cat kid: from the creator of capta...          dav pilkey   \n",
       "25  dog man: a tale of two kitties: from the creat...          dav pilkey   \n",
       "24               the legend of zelda: hyrule historia      patrick thorpe   \n",
       "\n",
       "    User Rating  Reviews  Price  Year        Genre  \n",
       "18          4.9     3146     30  2017      Fiction  \n",
       "19          4.9    11881     13  2018      Fiction  \n",
       "23          4.9     7235      4  2019      Fiction  \n",
       "22          4.9     7861      5  2016  Non Fiction  \n",
       "21          4.9     5867     54  2016  Non Fiction  \n",
       "20          4.9     1884      0  2014      Fiction  \n",
       "27          4.9     5470      6  2018      Fiction  \n",
       "26          4.9     5062      6  2018      Fiction  \n",
       "25          4.9     4786      8  2017      Fiction  \n",
       "24          4.9     5396     20  2013      Fiction  "
      ],
      "text/html": [
       "<div>\n",
       "<style scoped>\n",
       "    .dataframe tbody tr th:only-of-type {\n",
       "        vertical-align: middle;\n",
       "    }\n",
       "\n",
       "    .dataframe tbody tr th {\n",
       "        vertical-align: top;\n",
       "    }\n",
       "\n",
       "    .dataframe thead th {\n",
       "        text-align: right;\n",
       "    }\n",
       "</style>\n",
       "<table border=\"1\" class=\"dataframe\">\n",
       "  <thead>\n",
       "    <tr style=\"text-align: right;\">\n",
       "      <th></th>\n",
       "      <th>Name</th>\n",
       "      <th>Author</th>\n",
       "      <th>User Rating</th>\n",
       "      <th>Reviews</th>\n",
       "      <th>Price</th>\n",
       "      <th>Year</th>\n",
       "      <th>Genre</th>\n",
       "    </tr>\n",
       "  </thead>\n",
       "  <tbody>\n",
       "    <tr>\n",
       "      <th>18</th>\n",
       "      <td>harry potter and the prisoner of azkaban: the ...</td>\n",
       "      <td>j.k. rowling</td>\n",
       "      <td>4.9</td>\n",
       "      <td>3146</td>\n",
       "      <td>30</td>\n",
       "      <td>2017</td>\n",
       "      <td>Fiction</td>\n",
       "    </tr>\n",
       "    <tr>\n",
       "      <th>19</th>\n",
       "      <td>last week tonight with john oliver presents a ...</td>\n",
       "      <td>jill twiss</td>\n",
       "      <td>4.9</td>\n",
       "      <td>11881</td>\n",
       "      <td>13</td>\n",
       "      <td>2018</td>\n",
       "      <td>Fiction</td>\n",
       "    </tr>\n",
       "    <tr>\n",
       "      <th>23</th>\n",
       "      <td>dog man: brawl of the wild: from the creator o...</td>\n",
       "      <td>dav pilkey</td>\n",
       "      <td>4.9</td>\n",
       "      <td>7235</td>\n",
       "      <td>4</td>\n",
       "      <td>2019</td>\n",
       "      <td>Fiction</td>\n",
       "    </tr>\n",
       "    <tr>\n",
       "      <th>22</th>\n",
       "      <td>the magnolia story</td>\n",
       "      <td>chip gaines</td>\n",
       "      <td>4.9</td>\n",
       "      <td>7861</td>\n",
       "      <td>5</td>\n",
       "      <td>2016</td>\n",
       "      <td>Non Fiction</td>\n",
       "    </tr>\n",
       "    <tr>\n",
       "      <th>21</th>\n",
       "      <td>hamilton: the revolution</td>\n",
       "      <td>lin-manuel miranda</td>\n",
       "      <td>4.9</td>\n",
       "      <td>5867</td>\n",
       "      <td>54</td>\n",
       "      <td>2016</td>\n",
       "      <td>Non Fiction</td>\n",
       "    </tr>\n",
       "    <tr>\n",
       "      <th>20</th>\n",
       "      <td>little blue truck</td>\n",
       "      <td>alice schertle</td>\n",
       "      <td>4.9</td>\n",
       "      <td>1884</td>\n",
       "      <td>0</td>\n",
       "      <td>2014</td>\n",
       "      <td>Fiction</td>\n",
       "    </tr>\n",
       "    <tr>\n",
       "      <th>27</th>\n",
       "      <td>dog man: lord of the fleas: from the creator o...</td>\n",
       "      <td>dav pilkey</td>\n",
       "      <td>4.9</td>\n",
       "      <td>5470</td>\n",
       "      <td>6</td>\n",
       "      <td>2018</td>\n",
       "      <td>Fiction</td>\n",
       "    </tr>\n",
       "    <tr>\n",
       "      <th>26</th>\n",
       "      <td>dog man and cat kid: from the creator of capta...</td>\n",
       "      <td>dav pilkey</td>\n",
       "      <td>4.9</td>\n",
       "      <td>5062</td>\n",
       "      <td>6</td>\n",
       "      <td>2018</td>\n",
       "      <td>Fiction</td>\n",
       "    </tr>\n",
       "    <tr>\n",
       "      <th>25</th>\n",
       "      <td>dog man: a tale of two kitties: from the creat...</td>\n",
       "      <td>dav pilkey</td>\n",
       "      <td>4.9</td>\n",
       "      <td>4786</td>\n",
       "      <td>8</td>\n",
       "      <td>2017</td>\n",
       "      <td>Fiction</td>\n",
       "    </tr>\n",
       "    <tr>\n",
       "      <th>24</th>\n",
       "      <td>the legend of zelda: hyrule historia</td>\n",
       "      <td>patrick thorpe</td>\n",
       "      <td>4.9</td>\n",
       "      <td>5396</td>\n",
       "      <td>20</td>\n",
       "      <td>2013</td>\n",
       "      <td>Fiction</td>\n",
       "    </tr>\n",
       "  </tbody>\n",
       "</table>\n",
       "</div>"
      ]
     },
     "execution_count": 88,
     "metadata": {},
     "output_type": "execute_result"
    }
   ],
   "execution_count": 88
  },
  {
   "cell_type": "markdown",
   "id": "6db71226",
   "metadata": {},
   "source": [
    "<h3 class=\"yt\">Your Turn: 6</h3>\n",
    "\n",
    "Identify the highest <i>User Rating</i> for all books in <b><i>amazon_df</i></b>. <span class=\"bltn\">Print</span> the highest <i>User Rating</i> and the count of the number of books equal to this value. "
   ]
  },
  {
   "cell_type": "code",
   "id": "db157654",
   "metadata": {
    "ExecuteTime": {
     "end_time": "2024-11-07T13:11:32.154156Z",
     "start_time": "2024-11-07T13:11:32.149825Z"
    }
   },
   "source": [
    "highest_rating = amazon_df[\"User Rating\"].max()\n",
    "\n",
    "# Count the number of books with this highest User Rating\n",
    "highest_rating_count = (amazon_df[\"User Rating\"] == highest_rating).sum()\n",
    "\n",
    "print(highest_rating, highest_rating_count)"
   ],
   "outputs": [
    {
     "name": "stdout",
     "output_type": "stream",
     "text": [
      "4.9 28\n"
     ]
    }
   ],
   "execution_count": 90
  },
  {
   "cell_type": "markdown",
   "id": "9889f01e",
   "metadata": {},
   "source": [
    "<h3 class=\"yt\">Your Turn: 7</h3>\n",
    "\n",
    "<b><i>Inner Join</i></b> <b><i>amazon_df</i></b> on <b><i>gdrd_df</i></b> and store the result in a new DataFrame. <span class=\"bltn\">Print</span> the <b>shape</b> of the new DataFrame. <span class=\"bltn\">Print</span> the <span class=\"num\">first 5 rows</span>. "
   ]
  },
  {
   "cell_type": "code",
   "id": "19328910",
   "metadata": {
    "ExecuteTime": {
     "end_time": "2024-11-07T13:26:19.024985Z",
     "start_time": "2024-11-07T13:26:17.917971Z"
    }
   },
   "source": [
    "#I don't know who thought this was a good idea to do this.\n",
    "#But learn what joins are please.......\n",
    "amazon_df['key'] = 1\n",
    "gdrd_df['key'] = 1\n",
    "\n",
    "merged_df = pd.merge(gdrd_df, amazon_df, on=\"key\").drop(columns=\"key\")\n",
    "\n",
    "print(\"Shape of the merged DataFrame:\", merged_df.shape)\n",
    "print(merged_df.head())"
   ],
   "outputs": [
    {
     "name": "stdout",
     "output_type": "stream",
     "text": [
      "Shape of the merged DataFrame: (3599050, 20)\n",
      "   bookID                                              title  \\\n",
      "0     1.0  harry potter and the half-blood prince (harry ...   \n",
      "1     1.0  harry potter and the half-blood prince (harry ...   \n",
      "2     1.0  harry potter and the half-blood prince (harry ...   \n",
      "3     1.0  harry potter and the half-blood prince (harry ...   \n",
      "4     1.0  harry potter and the half-blood prince (harry ...   \n",
      "\n",
      "                      authors  average_rating        isbn         isbn13  \\\n",
      "0  j.k. rowling/mary grandpré            4.57  0439785960  9780439785969   \n",
      "1  j.k. rowling/mary grandpré            4.57  0439785960  9780439785969   \n",
      "2  j.k. rowling/mary grandpré            4.57  0439785960  9780439785969   \n",
      "3  j.k. rowling/mary grandpré            4.57  0439785960  9780439785969   \n",
      "4  j.k. rowling/mary grandpré            4.57  0439785960  9780439785969   \n",
      "\n",
      "  language_code    num_pages  ratings_count  text_reviews_count  \\\n",
      "0           eng        652.0      2095690.0             27591.0   \n",
      "1           eng        652.0      2095690.0             27591.0   \n",
      "2           eng        652.0      2095690.0             27591.0   \n",
      "3           eng        652.0      2095690.0             27591.0   \n",
      "4           eng        652.0      2095690.0             27591.0   \n",
      "\n",
      "  publication_date        publisher rating_ctgry  \\\n",
      "0       2006-09-16  Scholastic Inc.         high   \n",
      "1       2006-09-16  Scholastic Inc.         high   \n",
      "2       2006-09-16  Scholastic Inc.         high   \n",
      "3       2006-09-16  Scholastic Inc.         high   \n",
      "4       2006-09-16  Scholastic Inc.         high   \n",
      "\n",
      "                                     name          author  user rating  \\\n",
      "0                  unfreedom of the press   mark r. levin          4.9   \n",
      "1  strange planet (strange planet series)  nathan w. pyle          4.9   \n",
      "2               oh, the places you'll go!       dr. seuss          4.9   \n",
      "3             the very hungry caterpillar      eric carle          4.9   \n",
      "4             obama: an intimate portrait      pete souza          4.9   \n",
      "\n",
      "   reviews  price  year        genre  \n",
      "0     5956     11  2019  Non Fiction  \n",
      "1     9382      6  2019      Fiction  \n",
      "2    21834      8  2016      Fiction  \n",
      "3    19546      5  2019      Fiction  \n",
      "4     3192     22  2017  Non Fiction  \n"
     ]
    }
   ],
   "execution_count": 104
  },
  {
   "cell_type": "markdown",
   "id": "43b1dfd4",
   "metadata": {},
   "source": [
    "<h3 class=\"yt\">Your Turn: 8 - OPTIONAL</h3>\n",
    "\n",
    "You will need to have the the <b><i>recordlinkage</i></b> package installed for this <span class=\"yt\">Your Turn</span>. \n",
    "\n",
    "The Code cells below are based on DataCamp's Cleaning Data in Python Chapter 4 and the <a href = \"https://recordlinkage.readthedocs.io/en/latest/index.html\"> Python Record Linkage Toolkit Documentation</a>. \n",
    "\n",
    "<span class=\"yt\">Your Turn: 8</span> attempts to match books between <b><i>amazon_df and gdrd_df</i></b> using the <i>Name and title</i> columns with the <b><i>Record Linkage</i></b> library by comparing the similarity between values in both DataFrames using the levenshtein method which is Record Linkage's default.  \n",
    "\n",
    "The Code cells below are complete and use the <b><i>amazon_df</i></b> you created in the previous <span class=\"yt\">Your Turns</span>. You will need to run each Code cell, then answer the following questions in the Markdown Cell directly after this one. \n",
    "<ol>\n",
    "    <li>How does the shape between the <b><i>inner join</i></b> in <span class=\"yt\">Your Turn: 7's </span> result differ from the shape of the matching records in the <b><i>matching_books_df</i></b>? </li><br>\n",
    "    <li>Pick a row in which <i>Name</i> and <i>title</i> were not an exact match in <b><i>matching_books_df</i></b> (output of last Code cell). Which words differed between the <i>Name</i> and <i>title</i> values?</li><br>\n",
    "    <li>Is it useful to be able to match values that may not be an exact match? How could you use this in your future assignments, research, or work? </li>\n",
    "</ol>"
   ]
  },
  {
   "cell_type": "markdown",
   "id": "659391d9",
   "metadata": {},
   "source": [
    "<b><i>Your Turn 8: Answers</i></b>\n",
    "\n",
    "<b>1)</b>\n",
    "\n",
    "<b>2)</b>\n",
    "\n",
    "<b>3)</b>\n"
   ]
  },
  {
   "cell_type": "code",
   "execution_count": 25,
   "id": "e747c346",
   "metadata": {},
   "outputs": [
    {
     "ename": "NameError",
     "evalue": "name 'amazon_df' is not defined",
     "output_type": "error",
     "traceback": [
      "\u001B[1;31m---------------------------------------------------------------------------\u001B[0m",
      "\u001B[1;31mNameError\u001B[0m                                 Traceback (most recent call last)",
      "\u001B[1;32m<ipython-input-25-c4b94e9e60d3>\u001B[0m in \u001B[0;36m<module>\u001B[1;34m\u001B[0m\n\u001B[0;32m      5\u001B[0m \u001B[1;31m# index for this to work\u001B[0m\u001B[1;33m\u001B[0m\u001B[1;33m\u001B[0m\u001B[1;33m\u001B[0m\u001B[0m\n\u001B[0;32m      6\u001B[0m \u001B[0mgdrd_df_cpy\u001B[0m \u001B[1;33m=\u001B[0m \u001B[0mgdrd_df\u001B[0m\u001B[1;33m.\u001B[0m\u001B[0mcopy\u001B[0m\u001B[1;33m(\u001B[0m\u001B[1;33m)\u001B[0m\u001B[1;33m.\u001B[0m\u001B[0mreset_index\u001B[0m\u001B[1;33m(\u001B[0m\u001B[0mdrop\u001B[0m \u001B[1;33m=\u001B[0m \u001B[1;32mTrue\u001B[0m\u001B[1;33m)\u001B[0m\u001B[1;33m\u001B[0m\u001B[1;33m\u001B[0m\u001B[0m\n\u001B[1;32m----> 7\u001B[1;33m \u001B[0mamazon_df_cpy\u001B[0m \u001B[1;33m=\u001B[0m \u001B[0mamazon_df\u001B[0m\u001B[1;33m.\u001B[0m\u001B[0mcopy\u001B[0m\u001B[1;33m(\u001B[0m\u001B[1;33m)\u001B[0m\u001B[1;33m.\u001B[0m\u001B[0mreset_index\u001B[0m\u001B[1;33m(\u001B[0m\u001B[0mdrop\u001B[0m \u001B[1;33m=\u001B[0m \u001B[1;32mTrue\u001B[0m\u001B[1;33m)\u001B[0m\u001B[1;33m\u001B[0m\u001B[1;33m\u001B[0m\u001B[0m\n\u001B[0m\u001B[0;32m      8\u001B[0m \u001B[1;33m\u001B[0m\u001B[0m\n\u001B[0;32m      9\u001B[0m \u001B[1;31m# Create Index object\u001B[0m\u001B[1;33m\u001B[0m\u001B[1;33m\u001B[0m\u001B[1;33m\u001B[0m\u001B[0m\n",
      "\u001B[1;31mNameError\u001B[0m: name 'amazon_df' is not defined"
     ]
    }
   ],
   "source": [
    "# Import recordlinkage\n",
    "import recordlinkage\n",
    "\n",
    "# Create a copy of gdrd_df and reset its index. Either the index needs to be set on the originals or a copy made with reset \n",
    "# index for this to work \n",
    "gdrd_df_cpy = gdrd_df.copy().reset_index(drop = True)\n",
    "amazon_df_cpy = amazon_df.copy().reset_index(drop = True)\n",
    "\n",
    "# Create Index object \n",
    "indexer = recordlinkage.Index()\n",
    "\n",
    "# Purposefully create a full index for this example. This matches every row to every other row between the DataFrames. \n",
    "# Ignore the warning for this example.  \n",
    "indexer.full()\n",
    "\n",
    "# Create an index of the pairs from amazon_df_cpy and gdrd_df_cpy\n",
    "book_pairs = indexer.index(amazon_df_cpy, gdrd_df_cpy)\n",
    "\n",
    "# Create a Compare object to compare records (rows)\n",
    "compare_cl = recordlinkage.Compare()\n",
    "\n",
    "# Specify how to compare the Name and title values. Set a lower threshold to see how the matches look. \n",
    "compare_cl.string(\"Name\", \"title\", threshold = .70, label=\"Book_Titles\")\n",
    "\n",
    "\n",
    "# Compute the comparisons. This may take a little while. \n",
    "book_matches = compare_cl.compute(book_pairs, amazon_df_cpy, gdrd_df_cpy)"
   ]
  },
  {
   "cell_type": "code",
   "execution_count": null,
   "id": "ad9f7508",
   "metadata": {},
   "outputs": [],
   "source": [
    "# Get matches in which Book_Titles is == 1. Book_Titles is the only comparison. \n",
    "matching_books = book_matches[book_matches.sum(axis = 1) == 1]\n",
    "\n",
    "# See how many matches are returned. \n",
    "matching_books.shape\n"
   ]
  },
  {
   "cell_type": "code",
   "execution_count": null,
   "id": "c6d8bec9",
   "metadata": {},
   "outputs": [],
   "source": [
    "# Get the index for each match to use on their respective DataFrame \n",
    "matches_amazon = matching_books.index.get_level_values(0)\n",
    "matches_gdrds = matching_books.index.get_level_values(1)\n",
    "\n",
    "# Create a new view of both DataFrames. Reset the index for both. Drop the previous index.\n",
    "amazon_matches = amazon_df_cpy.iloc[matches_amazon].reset_index(drop = True)\n",
    "gdrd_matches = gdrd_df_cpy.iloc[matches_gdrds].reset_index(drop = True)"
   ]
  },
  {
   "cell_type": "code",
   "execution_count": null,
   "id": "513145c7",
   "metadata": {},
   "outputs": [],
   "source": [
    "# Create a new DataFrame with the matches. \n",
    "matching_books_df = pd.concat([amazon_matches, gdrd_matches], axis = 1)\n",
    "\n",
    "# Print the shape \n",
    "print(matching_books_df.shape)\n",
    "# Display the first 5 rows\n",
    "matching_books_df.head()"
   ]
  },
  {
   "cell_type": "code",
   "execution_count": null,
   "id": "fd3500c9",
   "metadata": {},
   "outputs": [],
   "source": [
    "# Display rows in matching_books_df in which the Name column does not match the title column exactly\n",
    "matching_books_df[matching_books_df[\"Name\"] != matching_books_df[\"title\"]]"
   ]
  },
  {
   "cell_type": "code",
   "execution_count": null,
   "id": "1cdad606",
   "metadata": {},
   "outputs": [],
   "source": []
  }
 ],
 "metadata": {
  "kernelspec": {
   "display_name": "Python 3",
   "language": "python",
   "name": "python3"
  },
  "language_info": {
   "codemirror_mode": {
    "name": "ipython",
    "version": 3
   },
   "file_extension": ".py",
   "mimetype": "text/x-python",
   "name": "python",
   "nbconvert_exporter": "python",
   "pygments_lexer": "ipython3",
   "version": "3.8.10"
  }
 },
 "nbformat": 4,
 "nbformat_minor": 5
}
